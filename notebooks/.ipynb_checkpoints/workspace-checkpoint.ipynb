{
 "cells": [
  {
   "cell_type": "code",
   "execution_count": 63,
   "metadata": {},
   "outputs": [
    {
     "name": "stdout",
     "output_type": "stream",
     "text": [
      "The autoreload extension is already loaded. To reload it, use:\n",
      "  %reload_ext autoreload\n"
     ]
    }
   ],
   "source": [
    "import numpy as np\n",
    "import pandas as pd\n",
    "from fox_toolbox.utils import xml_parser\n",
    "from tsr import csv_parser, tsr\n",
    "import matplotlib.pyplot as plt\n",
    "\n",
    "%load_ext autoreload\n",
    "%autoreload 2"
   ]
  },
  {
   "cell_type": "markdown",
   "metadata": {},
   "source": [
    "### Read IRSM FORM"
   ]
  },
  {
   "cell_type": "code",
   "execution_count": 90,
   "metadata": {},
   "outputs": [
    {
     "name": "stdout",
     "output_type": "stream",
     "text": [
      "Parsing CmsFlow csv log\n"
     ]
    }
   ],
   "source": [
    "irsmform = xml_parser.get_files('irsmform xml', folder = 'linear TSR logs')\n",
    "irsmout = xml_parser.get_files('out xml', folder = 'linear TSR logs')\n",
    "csv = xml_parser.get_files('CMS 10y csv', folder = 'linear TSR logs')\n",
    "\n",
    "\n",
    "replic_basket = csv_parser.parse_csv(csv)\n",
    "cal_basket = list(xml_parser.get_calib_basket(irsmform))\n",
    "settings = xml_parser.get_model_settings(irsmform)"
   ]
  },
  {
   "cell_type": "code",
   "execution_count": 91,
   "metadata": {},
   "outputs": [],
   "source": [
    "main_curve, sprds = xml_parser.get_rate_curves(irsmform)\n",
    "dsc_curve = main_curve\n",
    "\n",
    "try:\n",
    "    estim_curve = sprds[0]\n",
    "except TypeError:\n",
    "    estim_curve = main_curve\n",
    "    \n",
    "n = settings.SpotIterations"
   ]
  },
  {
   "cell_type": "code",
   "execution_count": 137,
   "metadata": {},
   "outputs": [],
   "source": [
    "adj_cms_flows = []\n",
    "for swo in cal_basket:\n",
    "    pmnt_date = swo.payment_dates[0]\n",
    "    mr = xml_parser.get_tsr_params(irsmform).meanRevTSRSwapRate(swo.start_date)\n",
    "    cmsflow = tsr.cmsflow(swo, dsc_curve, estim_curve, n, mr, pmnt_date).adjCMSrate\n",
    "    adj_cms_flows.append(cmsflow)\n",
    "adj_cms_flows = array(adj_cms_flows)"
   ]
  },
  {
   "cell_type": "code",
   "execution_count": 138,
   "metadata": {},
   "outputs": [
    {
     "data": {
      "text/plain": [
       "array([0.01599604, 0.01602738, 0.01605258, 0.01610705, 0.01608127,\n",
       "       0.01613015, 0.01612877, 0.01616278, 0.01619637, 0.01622208,\n",
       "       0.01625187, 0.01627881, 0.01639909, 0.01652059, 0.01659562,\n",
       "       0.01661394, 0.01669015, 0.01676109, 0.01683069, 0.01695644,\n",
       "       0.01696535, 0.01704165, 0.01711748, 0.01718763, 0.01726069,\n",
       "       0.01739905, 0.01733304, 0.01747556, 0.01762   , 0.01761902])"
      ]
     },
     "execution_count": 138,
     "metadata": {},
     "output_type": "execute_result"
    }
   ],
   "source": [
    "adj_cms_flows"
   ]
  },
  {
   "cell_type": "code",
   "execution_count": 139,
   "metadata": {},
   "outputs": [
    {
     "data": {
      "text/plain": [
       "0.5000222538781782"
      ]
     },
     "execution_count": 139,
     "metadata": {},
     "output_type": "execute_result"
    }
   ],
   "source": [
    "sum(adj_cms_flows)"
   ]
  },
  {
   "cell_type": "code",
   "execution_count": null,
   "metadata": {},
   "outputs": [],
   "source": []
  }
 ],
 "metadata": {
  "kernelspec": {
   "display_name": "Python 3",
   "language": "python",
   "name": "python3"
  },
  "language_info": {
   "codemirror_mode": {
    "name": "ipython",
    "version": 3
   },
   "file_extension": ".py",
   "mimetype": "text/x-python",
   "name": "python",
   "nbconvert_exporter": "python",
   "pygments_lexer": "ipython3",
   "version": "3.7.1"
  }
 },
 "nbformat": 4,
 "nbformat_minor": 4
}
