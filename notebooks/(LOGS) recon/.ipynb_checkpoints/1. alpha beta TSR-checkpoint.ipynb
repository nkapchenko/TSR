{
 "cells": [
  {
   "cell_type": "code",
   "execution_count": 10,
   "metadata": {},
   "outputs": [
    {
     "name": "stdout",
     "output_type": "stream",
     "text": [
      "The autoreload extension is already loaded. To reload it, use:\n",
      "  %reload_ext autoreload\n"
     ]
    }
   ],
   "source": [
    "import numpy as np\n",
    "import pandas as pd\n",
    "import os\n",
    "from numpy import array, median\n",
    "from hw import Jamshidian as jamsh\n",
    "from hw import Henrard as henr\n",
    "from hw import calibration as hw_calib\n",
    "from hw.const import *\n",
    "from fox_toolbox.utils import rates\n",
    "from fox_toolbox.utils import xml_parser\n",
    "from fox_toolbox.utils.rates import RateCurve\n",
    "from tsr import csv_parser, tsr\n",
    "from random import choice\n",
    "import matplotlib.pyplot as plt\n",
    "from tsr import linear\n",
    "from copy import deepcopy\n",
    "\n",
    "\n",
    "%load_ext autoreload\n",
    "%autoreload 2"
   ]
  },
  {
   "cell_type": "markdown",
   "metadata": {},
   "source": [
    "### Read IRSM FORM"
   ]
  },
  {
   "cell_type": "code",
   "execution_count": 14,
   "metadata": {},
   "outputs": [
    {
     "data": {
      "text/plain": [
       "['CMS_Replication_Method_leviathan19_37334_0.csv',\n",
       " 'irsmform_mx4008vm_18829_1269143_32.xml',\n",
       " 'irsmout_mx4008vm_18829_1269143_32.xml']"
      ]
     },
     "execution_count": 14,
     "metadata": {},
     "output_type": "execute_result"
    }
   ],
   "source": [
    "os.listdir('D:\\WORKSPACE\\logs\\Fanchao TSR logs')"
   ]
  },
  {
   "cell_type": "code",
   "execution_count": 38,
   "metadata": {},
   "outputs": [
    {
     "name": "stdout",
     "output_type": "stream",
     "text": [
      "Parsing CmsCap csv log\n"
     ]
    }
   ],
   "source": [
    "irsmform = os.path.join('D:\\WORKSPACE\\logs\\Fanchao TSR logs','irsmform_mx4008vm_18829_1269143_32.xml')\n",
    "# irsmout  ='irsmout_mx4008vm_18829_1269143_32.xml'\n",
    "csv = os.path.join('D:\\WORKSPACE\\logs\\Fanchao TSR logs','CMS_Replication_Method_leviathan19_37334_0.csv')\n",
    "\n",
    "\n",
    "main_curve, estim_curves = xml_parser.get_rate_curves(irsmform)\n",
    "dsc_curve = main_curve\n",
    "\n",
    "try:\n",
    "    estim_curve = estim_curves[0]\n",
    "except TypeError:\n",
    "    estim_curve = main_curve\n",
    "\n",
    "cms_replic_basket = csv_parser.parse_csv(csv)\n",
    "cal_basket = list(xml_parser.get_calib_basket(irsmform))"
   ]
  },
  {
   "cell_type": "code",
   "execution_count": null,
   "metadata": {},
   "outputs": [],
   "source": [
    "for (caplet, floorlet), swo in zip(cms_replic_basket, cal_basket):  \n",
    "    mr = 0.\n",
    "    print('model a: ', caplet.model.a, '     model b: ', caplet.model.b,\\\n",
    "          '    diff: a: ', caplet.model.a - linear.get_coeff(caplet.pmnt_date, dsc_curve, swo, mr, estim_curve).a,\\\n",
    "          '    diff: b: ', caplet.model.b - linear.get_coeff(caplet.pmnt_date, dsc_curve, swo, mr, estim_curve).b\n",
    "         )"
   ]
  }
 ],
 "metadata": {
  "kernelspec": {
   "display_name": "Python 3",
   "language": "python",
   "name": "python3"
  },
  "language_info": {
   "codemirror_mode": {
    "name": "ipython",
    "version": 3
   },
   "file_extension": ".py",
   "mimetype": "text/x-python",
   "name": "python",
   "nbconvert_exporter": "python",
   "pygments_lexer": "ipython3",
   "version": "3.7.1"
  }
 },
 "nbformat": 4,
 "nbformat_minor": 4
}
