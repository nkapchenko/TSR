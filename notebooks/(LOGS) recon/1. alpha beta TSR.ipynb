{
 "cells": [
  {
   "cell_type": "code",
   "execution_count": 1,
   "metadata": {},
   "outputs": [],
   "source": [
    "import numpy as np\n",
    "import pandas as pd\n",
    "import os\n",
    "from numpy import array, median\n",
    "from hw import Jamshidian as jamsh\n",
    "from hw import Henrard as henr\n",
    "from hw import calibration as hw_calib\n",
    "from hw.const import *\n",
    "from fox_toolbox.utils import rates\n",
    "from fox_toolbox.utils import xml_parser\n",
    "from fox_toolbox.utils.rates import RateCurve\n",
    "from tsr import csv_parser, tsr\n",
    "from random import choice\n",
    "import matplotlib.pyplot as plt\n",
    "from tsr import linear\n",
    "from copy import deepcopy\n",
    "\n",
    "\n",
    "%load_ext autoreload\n",
    "%autoreload 2"
   ]
  },
  {
   "cell_type": "markdown",
   "metadata": {},
   "source": [
    "### Read IRSM FORM"
   ]
  },
  {
   "cell_type": "code",
   "execution_count": 4,
   "metadata": {},
   "outputs": [
    {
     "data": {
      "text/plain": [
       "['CMS_Replication_Method_mx13548vm_828_0.csv',\n",
       " 'irsmform_mx13548vm_828_114374_0.xml',\n",
       " 'irsmout_mx13548vm_828_114374_0.xml']"
      ]
     },
     "execution_count": 4,
     "metadata": {},
     "output_type": "execute_result"
    }
   ],
   "source": [
    "path = r'C:\\Users\\mkapchenko\\Dropbox\\perso\\GitHub\\TSR\\notebooks\\(LOGS) recon\\epad_plain_cms_swap'\n",
    "os.listdir(path)"
   ]
  },
  {
   "cell_type": "code",
   "execution_count": 6,
   "metadata": {},
   "outputs": [],
   "source": [
    "irsmform = xml_parser.get_files('form xml', path)\n",
    "irsmout = xml_parser.get_files('out xml', path)\n",
    "csv = xml_parser.get_files('CMS csv', path)"
   ]
  },
  {
   "cell_type": "code",
   "execution_count": 7,
   "metadata": {},
   "outputs": [
    {
     "name": "stdout",
     "output_type": "stream",
     "text": [
      "Parsing CmsFlow csv log\n"
     ]
    }
   ],
   "source": [
    "main_curve, estim_curves = xml_parser.get_rate_curves(irsmform)\n",
    "dsc_curve = main_curve\n",
    "\n",
    "try:\n",
    "    estim_curve = estim_curves[0]\n",
    "except TypeError:\n",
    "    estim_curve = main_curve\n",
    "\n",
    "cms_replic_basket = csv_parser.parse_csv(csv)\n",
    "cal_basket = list(xml_parser.get_calib_basket(irsmform))"
   ]
  },
  {
   "cell_type": "code",
   "execution_count": 13,
   "metadata": {},
   "outputs": [
    {
     "name": "stdout",
     "output_type": "stream",
     "text": [
      "model a:  0.4800653839068      model b:  0.0991867009289     diff: a:  0.01794473540568775     diff: b:  -0.0002531280349371279\n",
      "model a:  0.4799348603123      model b:  0.0991706603789     diff: a:  0.017960723909314802     diff: b:  -0.00025337195220419273\n",
      "model a:  0.4798049704389      model b:  0.0991245666338     diff: a:  0.017981147609159864     diff: b:  -0.00025364345792716625\n",
      "model a:  0.4784864679357      model b:  0.0990771865028     diff: a:  0.01778338853095157     diff: b:  -0.00025080004594314753\n",
      "model a:  0.4796814311568      model b:  0.099076950395     diff: a:  0.018044795448358186     diff: b:  -0.0002543975323361092\n",
      "model a:  0.4798861919703      model b:  0.0990177583404     diff: a:  0.018077590944663158     diff: b:  -0.0002547264559295964\n",
      "model a:  0.4795317880351      model b:  0.0990396499067     diff: a:  0.017997767375179663     diff: b:  -0.0002536855225397927\n",
      "model a:  0.4791691299496      model b:  0.0990928501319     diff: a:  0.017911682302896803     diff: b:  -0.0002525361395838699\n",
      "model a:  0.4795904445207      model b:  0.0991490149497     diff: a:  0.017961031303328823     diff: b:  -0.00025327851170758864\n",
      "model a:  0.4789648605025      model b:  0.0991843942074     diff: a:  0.017816467534293612     diff: b:  -0.00025127165832071474\n",
      "model a:  0.480184479702      model b:  0.09912773057     diff: a:  0.018037786420998292     diff: b:  -0.00025441267983175586\n",
      "model a:  0.4799186170456      model b:  0.0990945505268     diff: a:  0.01795725637764861     diff: b:  -0.0002533205009808692\n",
      "model a:  0.4799800684959      model b:  0.0990567699676     diff: a:  0.017949137987643804     diff: b:  -0.0002532362172499164\n",
      "model a:  0.4800259124033      model b:  0.0989875896457     diff: a:  0.01797126596677867     diff: b:  -0.0002535679052470402\n",
      "model a:  0.4800883540852      model b:  0.0988324761577     diff: a:  0.018028579500892705     diff: b:  -0.00025438982254957776\n",
      "model a:  0.4792497701931      model b:  0.0986748171092     diff: a:  0.017953264932357438     diff: b:  -0.0002533268871728611\n",
      "model a:  0.480192264541      model b:  0.0984545454264     diff: a:  0.018242204150121122     diff: b:  -0.00025739559065904305\n",
      "model a:  0.4794035081147      model b:  0.0982352685512     diff: a:  0.018247875879102315     diff: b:  -0.00025745313849039053\n",
      "model a:  0.4787203866744      model b:  0.098011808004     diff: a:  0.01830772972693334     diff: b:  -0.00025826083925414856\n",
      "model a:  0.4774124819631      model b:  0.097732190899     diff: a:  0.01827885140495389     diff: b:  -0.0002578079151468182\n",
      "model a:  0.4772215331544      model b:  0.0977592129981     diff: a:  0.018248521770248827     diff: b:  -0.00025732015384086204\n",
      "model a:  0.4782190608168      model b:  0.0977990255163     diff: a:  0.01845928671606578     diff: b:  -0.00026032546898221987\n",
      "model a:  0.4782632691778      model b:  0.097751742078     diff: a:  0.018484446265728982     diff: b:  -0.000260697642359517\n",
      "model a:  0.4774618181973      model b:  0.0978055190718     diff: a:  0.01833059638815443     diff: b:  -0.0002585404179921008\n",
      "model a:  0.4777303391228      model b:  0.0979261473402     diff: a:  0.018354603290903604     diff: b:  -0.0002588797592184139\n",
      "model a:  0.4777713109463      model b:  0.0980108314104     diff: a:  0.018321375330640544     diff: b:  -0.00025841017948539935\n",
      "model a:  0.4771840758347      model b:  0.0980883702156     diff: a:  0.0181493176825841     diff: b:  -0.00025597817217104524\n",
      "model a:  0.4785679032443      model b:  0.0981759726147     diff: a:  0.01832454483591378     diff: b:  -0.0002584384803019507\n",
      "model a:  0.4785470450195      model b:  0.0983123316681     diff: a:  0.018216890808317898     diff: b:  -0.00025689845914109166\n",
      "model a:  0.4790310719252      model b:  0.0984912729386     diff: a:  0.01819131096873261     diff: b:  -0.0002565062523387507\n"
     ]
    }
   ],
   "source": [
    "for (caplet, floorlet, swaplet), swo in zip(cms_replic_basket, cal_basket):  \n",
    "    mr = 0.\n",
    "    print('model a: ', caplet.model.a, '     model b: ', caplet.model.b,\\\n",
    "          '    diff: a: ', caplet.model.a - linear.get_coeff(caplet.pmnt_date, dsc_curve, swo, mr, estim_curve).a,\\\n",
    "          '    diff: b: ', caplet.model.b - linear.get_coeff(caplet.pmnt_date, dsc_curve, swo, mr, estim_curve).b\n",
    "         )"
   ]
  },
  {
   "cell_type": "code",
   "execution_count": 12,
   "metadata": {},
   "outputs": [
    {
     "data": {
      "text/plain": [
       "3"
      ]
     },
     "execution_count": 12,
     "metadata": {},
     "output_type": "execute_result"
    }
   ],
   "source": [
    "len(cms_replic_basket[0])"
   ]
  },
  {
   "cell_type": "code",
   "execution_count": 14,
   "metadata": {},
   "outputs": [
    {
     "data": {
      "text/plain": [
       "0.4608397609564674"
      ]
     },
     "execution_count": 14,
     "metadata": {},
     "output_type": "execute_result"
    }
   ],
   "source": [
    "linear.get_coeff(caplet.pmnt_date, dsc_curve, swo, mr, estim_curve).a"
   ]
  }
 ],
 "metadata": {
  "kernelspec": {
   "display_name": "Python 3",
   "language": "python",
   "name": "python3"
  },
  "language_info": {
   "codemirror_mode": {
    "name": "ipython",
    "version": 3
   },
   "file_extension": ".py",
   "mimetype": "text/x-python",
   "name": "python",
   "nbconvert_exporter": "python",
   "pygments_lexer": "ipython3",
   "version": "3.7.1"
  }
 },
 "nbformat": 4,
 "nbformat_minor": 4
}
