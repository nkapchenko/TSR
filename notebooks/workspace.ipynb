{
 "cells": [
  {
   "cell_type": "code",
   "execution_count": 1,
   "metadata": {},
   "outputs": [],
   "source": [
    "import numpy as np\n",
    "from numpy import array\n",
    "import pandas as pd\n",
    "from fox_toolbox.utils import xml_parser\n",
    "from tsr import csv_parser, tsr\n",
    "import matplotlib.pyplot as plt\n",
    "\n",
    "%load_ext autoreload\n",
    "%autoreload 2"
   ]
  },
  {
   "cell_type": "markdown",
   "metadata": {},
   "source": [
    "### Read IRSM FORM"
   ]
  },
  {
   "cell_type": "code",
   "execution_count": 2,
   "metadata": {},
   "outputs": [
    {
     "name": "stdout",
     "output_type": "stream",
     "text": [
      "Parsing CmsFlow csv log\n"
     ]
    }
   ],
   "source": [
    "irsmform = xml_parser.get_files('irsmform xml', folder = 'linear TSR logs')\n",
    "irsmout = xml_parser.get_files('out xml', folder = 'linear TSR logs')\n",
    "csv = xml_parser.get_files('CMS 10y csv', folder = 'linear TSR logs')\n",
    "\n",
    "\n",
    "replic_basket = csv_parser.parse_csv(csv)\n",
    "cal_basket = list(xml_parser.get_calib_basket(irsmform))\n",
    "settings = xml_parser.get_model_settings(irsmform)"
   ]
  },
  {
   "cell_type": "code",
   "execution_count": 16,
   "metadata": {},
   "outputs": [],
   "source": [
    "dsc_curve, estim_curve, *sprds = xml_parser.get_rate_curves(irsmform)\n",
    "\n",
    "mr_curve = xml_parser.get_tsr_params(irsmform).meanRevTSRSwapRate\n",
    "    \n",
    "n = settings.SpotIterations"
   ]
  },
  {
   "cell_type": "code",
   "execution_count": 57,
   "metadata": {},
   "outputs": [],
   "source": [
    "adj_cms_flows = []\n",
    "dsc_adj_cms_flows = []\n",
    "\n",
    "for swo in cal_basket:\n",
    "    pmnt_date = swo.payment_dates[0]\n",
    "    mr = mr_curve(swo.start_date)\n",
    "    adj_cms_flow = tsr.cmsflow(swo, dsc_curve, estim_curve, n, mr, pmnt_date).adjCMSrate\n",
    "    \n",
    "    adj_cms_flows.append(adj_cms_flow)\n",
    "    dsc_adj_cms_flows.append(adj_cms_flow * dsc_curve.get_zc(pmnt_date))\n",
    "    \n",
    "dsc_adj_cms_flows = array(dsc_adj_cms_flows)"
   ]
  },
  {
   "cell_type": "code",
   "execution_count": 58,
   "metadata": {},
   "outputs": [
    {
     "data": {
      "text/plain": [
       "0.006950738250165344"
      ]
     },
     "execution_count": 58,
     "metadata": {},
     "output_type": "execute_result"
    }
   ],
   "source": [
    "sum(dsc_adj_cms_flows)"
   ]
  },
  {
   "cell_type": "code",
   "execution_count": 36,
   "metadata": {},
   "outputs": [
    {
     "name": "stdout",
     "output_type": "stream",
     "text": [
      "21.0191780821918\n",
      "22.0191780821918\n",
      "23.0191780821918\n",
      "24.027397260274\n",
      "25.027397260274\n",
      "26.0246575342466\n",
      "27.0219178082192\n",
      "28.0246575342466\n",
      "29.0246575342466\n",
      "30.0301369863014\n",
      "31.0301369863014\n",
      "32.0301369863014\n",
      "33.027397260274\n",
      "34.027397260274\n",
      "35.027397260274\n",
      "36.0328767123288\n",
      "37.0328767123288\n",
      "38.0301369863014\n",
      "39.0301369863014\n",
      "40.0328767123288\n",
      "41.0383561643836\n",
      "42.0383561643836\n",
      "43.0356164383562\n",
      "44.0356164383562\n",
      "45.0356164383562\n",
      "46.0356164383562\n",
      "47.041095890411\n",
      "48.0438356164384\n",
      "49.0383561643836\n",
      "50.0383561643836\n"
     ]
    }
   ],
   "source": [
    "dscs  = []\n",
    "for swo in cal_basket:\n",
    "    pmnt_date = swo.payment_dates[0]\n",
    "    dscs.append(dsc_curve.get_dsc(pmnt_date))\n",
    "    print(pmnt_date)"
   ]
  }
 ],
 "metadata": {
  "kernelspec": {
   "display_name": "Python 3",
   "language": "python",
   "name": "python3"
  },
  "language_info": {
   "codemirror_mode": {
    "name": "ipython",
    "version": 3
   },
   "file_extension": ".py",
   "mimetype": "text/x-python",
   "name": "python",
   "nbconvert_exporter": "python",
   "pygments_lexer": "ipython3",
   "version": "3.7.1"
  }
 },
 "nbformat": 4,
 "nbformat_minor": 4
}
