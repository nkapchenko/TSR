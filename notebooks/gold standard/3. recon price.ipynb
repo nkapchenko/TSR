{
 "cells": [
  {
   "cell_type": "code",
   "execution_count": 1,
   "metadata": {},
   "outputs": [],
   "source": [
    "import numpy as np\n",
    "from numpy import array\n",
    "import pandas as pd\n",
    "from fox_toolbox.utils import xml_parser\n",
    "from tsr import csv_parser, tsr\n",
    "import matplotlib.pyplot as plt\n",
    "\n",
    "%load_ext autoreload\n",
    "%autoreload 2"
   ]
  },
  {
   "cell_type": "markdown",
   "metadata": {},
   "source": [
    "### Read IRSM FORM"
   ]
  },
  {
   "cell_type": "code",
   "execution_count": 2,
   "metadata": {},
   "outputs": [
    {
     "name": "stdout",
     "output_type": "stream",
     "text": [
      "Parsing CmsFlow csv log\n"
     ]
    }
   ],
   "source": [
    "irsmform = xml_parser.get_files('irsmform xml', folder = 'linear TSR logs')\n",
    "irsmout = xml_parser.get_files('out xml', folder = 'linear TSR logs')\n",
    "csv = xml_parser.get_files('CMS 10y csv', folder = 'linear TSR logs')\n",
    "\n",
    "\n",
    "replic_basket = csv_parser.parse_csv(csv)\n",
    "cal_basket = list(xml_parser.get_calib_basket(irsmform))\n",
    "settings = xml_parser.get_model_settings(irsmform)"
   ]
  },
  {
   "cell_type": "code",
   "execution_count": 3,
   "metadata": {},
   "outputs": [],
   "source": [
    "main_curve, sprds = xml_parser.get_rate_curves(irsmform)\n",
    "dsc_curve = main_curve\n",
    "\n",
    "try:\n",
    "    estim_curve = sprds[0]\n",
    "except TypeError:\n",
    "    estim_curve = main_curve\n",
    "    \n",
    "n = settings.SpotIterations"
   ]
  },
  {
   "cell_type": "code",
   "execution_count": 9,
   "metadata": {},
   "outputs": [],
   "source": [
    "dsc_adj_cms_flows = []\n",
    "mean_rev = xml_parser.get_tsr_params(irsmform).meanRevTSRSwapRate\n",
    "\n",
    "for swo in cal_basket:\n",
    "    pmnt_date = swo.payment_dates[0]\n",
    "    mr = mean_rev(swo.start_date)\n",
    "    adj_cms_flow = tsr.cmsflow(swo, dsc_curve, estim_curve, n, mr, pmnt_date).adjCMSrate\n",
    "    dsc_adj_cms_flows.append(adj_cms_flow * dsc_curve(pmnt_date))\n",
    "dsc_adj_cms_flows = array(dsc_adj_cms_flows)"
   ]
  },
  {
   "cell_type": "code",
   "execution_count": 6,
   "metadata": {},
   "outputs": [
    {
     "data": {
      "text/plain": [
       "Curve(array([ 1.        ,  5.00273973, 10.00821918]), array([0.02, 0.04, 0.06]), 'PieceWise', 'meanRevTSRSwapRate')"
      ]
     },
     "execution_count": 6,
     "metadata": {},
     "output_type": "execute_result"
    }
   ],
   "source": [
    "xml_parser.get_tsr_params(irsmform).meanRevTSRSwapRate"
   ]
  },
  {
   "cell_type": "code",
   "execution_count": null,
   "metadata": {},
   "outputs": [],
   "source": []
  }
 ],
 "metadata": {
  "kernelspec": {
   "display_name": "Python 3",
   "language": "python",
   "name": "python3"
  },
  "language_info": {
   "codemirror_mode": {
    "name": "ipython",
    "version": 3
   },
   "file_extension": ".py",
   "mimetype": "text/x-python",
   "name": "python",
   "nbconvert_exporter": "python",
   "pygments_lexer": "ipython3",
   "version": "3.7.1"
  }
 },
 "nbformat": 4,
 "nbformat_minor": 4
}
