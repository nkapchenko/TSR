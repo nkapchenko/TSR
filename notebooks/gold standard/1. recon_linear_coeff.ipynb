{
 "cells": [
  {
   "cell_type": "code",
   "execution_count": 1,
   "metadata": {},
   "outputs": [],
   "source": [
    "import numpy as np\n",
    "import pandas as pd\n",
    "from numpy import array, median\n",
    "from hw import Jamshidian as jamsh\n",
    "from hw import Henrard as henr\n",
    "from hw import calibration as hw_calib\n",
    "from hw.const import *\n",
    "from fox_toolbox.utils import rates\n",
    "from fox_toolbox.utils import xml_parser\n",
    "from fox_toolbox.utils.rates import RateCurve\n",
    "from tsr import csv_parser, tsr\n",
    "from random import choice\n",
    "import matplotlib.pyplot as plt\n",
    "from tsr import linear\n",
    "from copy import deepcopy\n",
    "\n",
    "\n",
    "%load_ext autoreload\n",
    "%autoreload 2"
   ]
  },
  {
   "cell_type": "markdown",
   "metadata": {},
   "source": [
    "### Read IRSM FORM"
   ]
  },
  {
   "cell_type": "code",
   "execution_count": 2,
   "metadata": {},
   "outputs": [
    {
     "name": "stdout",
     "output_type": "stream",
     "text": [
      "Parsing CmsFlow csv log\n"
     ]
    }
   ],
   "source": [
    "cms_xml = xml_parser.get_files('irsmform xml', folder = '../linear TSR logs')\n",
    "cms_xml_out = xml_parser.get_files('irsmout xml', folder = '../linear TSR logs')\n",
    "cms_csv = xml_parser.get_files('CMS 10y csv', folder = 'linear TSR logs')\n",
    "\n",
    "main_curve, estim_curves = xml_parser.get_rate_curves(cms_xml)\n",
    "dsc_curve = main_curve\n",
    "\n",
    "try:\n",
    "    estim_curve = estim_curves[0]\n",
    "except TypeError:\n",
    "    estim_curve = main_curve\n",
    "\n",
    "cms_replic_basket = csv_parser.parse_csv(cms_csv)\n",
    "cal_basket = list(xml_parser.get_calib_basket(cms_xml))"
   ]
  },
  {
   "cell_type": "code",
   "execution_count": 3,
   "metadata": {},
   "outputs": [
    {
     "name": "stdout",
     "output_type": "stream",
     "text": [
      "model a:  0.4786055962527      model b:  0.0981703602549     diff: a:  -1.3053933878293122e-08     diff: b:  -1.3102935403352944e-11\n",
      "model a:  0.4785661917957      model b:  0.0981983449779     diff: a:  -1.1607199756902276e-08     diff: b:  2.1332996757994493e-09\n",
      "model a:  0.4785666734571      model b:  0.0981954690642     diff: a:  4.0933451073144056e-10     diff: b:  2.144563013284362e-09\n",
      "model a:  0.4774371928133      model b:  0.098192244821     diff: a:  1.353315526309018e-08     diff: b:  2.142562113838231e-09\n",
      "model a:  0.4788340294633      model b:  0.0982306043833     diff: a:  -3.9861861589329806e-09     diff: b:  -3.214374835747158e-09\n",
      "model a:  0.4789866591842      model b:  0.0981442317239     diff: a:  -1.717746883622695e-08     diff: b:  -1.386404879788472e-11\n",
      "model a:  0.4786019651123      model b:  0.0981323560065     diff: a:  -2.1661331450761878e-08     diff: b:  -1.1562917290319774e-11\n",
      "model a:  0.4781674697757      model b:  0.0981440960807     diff: a:  -2.1004100514421253e-08     diff: b:  2.142962737816667e-09\n",
      "model a:  0.4784546724717      model b:  0.098149861163     diff: a:  3.7168964017730843e-09     diff: b:  4.293129851618005e-09\n",
      "model a:  0.4776416766012      model b:  0.0981283177244     diff: a:  1.93107763668543e-08     diff: b:  4.284350652028479e-09\n",
      "model a:  0.4788825259597      model b:  0.0980692737803     diff: a:  -2.4948280219483365e-08     diff: b:  -7.396555590233334e-12\n",
      "model a:  0.4784982193727      model b:  0.0980695416415     diff: a:  -2.2391142884270465e-08     diff: b:  1.2511908176193742e-11\n",
      "model a:  0.4784347403607      model b:  0.0980960567707     diff: a:  -1.3530295439601048e-08     diff: b:  2.144148580907057e-09\n",
      "model a:  0.4783867581953      model b:  0.0981226605079     diff: a:  -9.948216583843816e-09     diff: b:  4.2900904773102155e-09\n",
      "model a:  0.4784195602942      model b:  0.0980952278689     diff: a:  1.2655505865488692e-08     diff: b:  2.1618757756192153e-09\n",
      "model a:  0.4776666917762      model b:  0.0980977264979     diff: a:  2.6899527605372953e-08     diff: b:  2.1444826470151668e-09\n",
      "model a:  0.4788210754938      model b:  0.0980669953373     diff: a:  -1.304502500465432e-08     diff: b:  -9.402173484218679e-12\n",
      "model a:  0.4784502450742      model b:  0.0980686439097     diff: a:  -1.7161852161606816e-08     diff: b:  -1.13761361442144e-11\n",
      "model a:  0.4784232177302      model b:  0.0980962970634     diff: a:  -1.6095976163033043e-08     diff: b:  2.1368577046709802e-09\n",
      "model a:  0.4780652127204      model b:  0.0980983294605     diff: a:  -4.495499306145234e-09     diff: b:  2.150654293542331e-09\n",
      "model a:  0.4776627182279      model b:  0.0981278340071     diff: a:  2.17312366435074e-08     diff: b:  4.281055676624845e-09\n",
      "model a:  0.4787354985082      model b:  0.0981506692212     diff: a:  -8.079867830357301e-09     diff: b:  -3.21227396071766e-09\n",
      "model a:  0.4788501494542      model b:  0.0980688573334     diff: a:  -2.1645641279377514e-08     diff: b:  -8.761866232553928e-12\n",
      "model a:  0.4780960581585      model b:  0.0980711639907     diff: a:  -2.2390685749940076e-08     diff: b:  1.2700437923562902e-11\n",
      "model a:  0.4783804937478      model b:  0.0981240758429     diff: a:  -8.2449732041745e-09     diff: b:  4.295282948763024e-09\n",
      "model a:  0.478379922204      model b:  0.0981240247965     diff: a:  6.2627069641330024e-09     diff: b:  4.300117428801542e-09\n",
      "model a:  0.4776703772921      model b:  0.0980995337862     diff: a:  3.034531720347289e-08     diff: b:  2.1542904404814323e-09\n",
      "model a:  0.4788328551465      model b:  0.0980687777024     diff: a:  -2.780521840550776e-08     diff: b:  1.4175050022657842e-12\n",
      "model a:  0.47845996555      model b:  0.0980704002195     diff: a:  -1.304636398913317e-08     diff: b:  -9.511141874085638e-12\n",
      "model a:  0.4784336454048      model b:  0.0980978646286     diff: a:  -1.1602286020817587e-08     diff: b:  2.134202342629621e-09\n"
     ]
    }
   ],
   "source": [
    "for (caplet, floorlet, swaplet), swo in zip(cms_replic_basket, cal_basket):  \n",
    "    mr = xml_parser.get_tsr_params(cms_xml_out).meanRevTSRSwapRate(swo.expiry)\n",
    "    print('model a: ', caplet.model.a, '     model b: ', caplet.model.b,\\\n",
    "          '    diff: a: ', caplet.model.a - linear.get_coeff(caplet.pmnt_date, dsc_curve, swo, mr, estim_curve).a,\\\n",
    "          '    diff: b: ', caplet.model.b - linear.get_coeff(caplet.pmnt_date, dsc_curve, swo, mr, estim_curve).b\n",
    "         )"
   ]
  },
  {
   "cell_type": "code",
   "execution_count": 4,
   "metadata": {},
   "outputs": [
    {
     "data": {
      "text/plain": [
       "0.478433657007086"
      ]
     },
     "execution_count": 4,
     "metadata": {},
     "output_type": "execute_result"
    }
   ],
   "source": [
    "linear.get_coeff(caplet.pmnt_date, dsc_curve, swo, mr, estim_curve).a"
   ]
  },
  {
   "cell_type": "code",
   "execution_count": null,
   "metadata": {},
   "outputs": [],
   "source": []
  }
 ],
 "metadata": {
  "kernelspec": {
   "display_name": "Python 3",
   "language": "python",
   "name": "python3"
  },
  "language_info": {
   "codemirror_mode": {
    "name": "ipython",
    "version": 3
   },
   "file_extension": ".py",
   "mimetype": "text/x-python",
   "name": "python",
   "nbconvert_exporter": "python",
   "pygments_lexer": "ipython3",
   "version": "3.7.1"
  }
 },
 "nbformat": 4,
 "nbformat_minor": 4
}
