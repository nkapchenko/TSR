{
 "cells": [
  {
   "cell_type": "code",
   "execution_count": 19,
   "metadata": {},
   "outputs": [
    {
     "name": "stdout",
     "output_type": "stream",
     "text": [
      "The autoreload extension is already loaded. To reload it, use:\n",
      "  %reload_ext autoreload\n"
     ]
    }
   ],
   "source": [
    "import numpy as np\n",
    "import pandas as pd\n",
    "import math\n",
    "from numpy import array, median\n",
    "from hw import Jamshidian as jamsh\n",
    "from hw import Henrard as henr\n",
    "from hw import calibration as hw_calib\n",
    "from hw.const import *\n",
    "from fox_toolbox.utils import rates\n",
    "from fox_toolbox.utils import volatility\n",
    "from fox_toolbox.utils import xml_parser\n",
    "# from fox_toolbox.utils \n",
    "from tsr import csv_parser, tsr, linear\n",
    "from random import choice\n",
    "import matplotlib.pyplot as plt\n",
    "from termcolor import colored\n",
    "\n",
    "np.set_printoptions(precision=4)\n",
    "\n",
    "%load_ext autoreload\n",
    "%autoreload 2"
   ]
  },
  {
   "cell_type": "markdown",
   "metadata": {},
   "source": [
    "### Read IRSM FORM"
   ]
  },
  {
   "cell_type": "code",
   "execution_count": 20,
   "metadata": {},
   "outputs": [
    {
     "name": "stdout",
     "output_type": "stream",
     "text": [
      "Parsing CmsFlow csv log\n"
     ]
    }
   ],
   "source": [
    "cms_xml = xml_parser.get_files('irsmform xml', folder = 'linear TSR logs')\n",
    "cms_xml_out = xml_parser.get_files('out xml', folder = 'linear TSR logs')\n",
    "cms_csv = xml_parser.get_files('CMS 10y csv', folder = 'linear TSR logs')\n",
    "\n",
    "cms_replic_basket = csv_parser.parse_csv(cms_csv)\n",
    "cal_basket = list(xml_parser.get_calib_basket(cms_xml_out))"
   ]
  },
  {
   "cell_type": "code",
   "execution_count": 21,
   "metadata": {},
   "outputs": [],
   "source": [
    "main_curve, sprds = xml_parser.get_rate_curves(cms_xml)\n",
    "dsc_curve = main_curve\n",
    "\n",
    "try:\n",
    "    estim_curve = sprds[0]\n",
    "except TypeError:\n",
    "    estim_curve = main_curve"
   ]
  },
  {
   "cell_type": "markdown",
   "metadata": {},
   "source": [
    "### Kmin & Kmax reconciliation"
   ]
  },
  {
   "cell_type": "code",
   "execution_count": 22,
   "metadata": {},
   "outputs": [
    {
     "name": "stdout",
     "output_type": "stream",
     "text": [
      "\u001b[32mOK\u001b[0m\n"
     ]
    }
   ],
   "source": [
    "maxe = 0\n",
    "tsr_fwds, xml_fwds = [], []\n",
    "for (caplet, floorlet, swaplet), swo in zip(cms_replic_basket, cal_basket):\n",
    "    tsr_fwds.append(caplet.fwd)\n",
    "    xml_fwds.append(swo.get_swap_rate(dsc_curve, estim_curve))\n",
    "    \n",
    "    kmax = tsr.minmax_strikes(swo.vol, swo.expiry, swo.get_swap_rate(dsc_curve, estim_curve), caplet.n).kmax \n",
    "    kmin = tsr.minmax_strikes(swo.vol, swo.expiry, swo.get_swap_rate(dsc_curve, estim_curve), floorlet.n).kmin\n",
    "    maxe = max(maxe, kmax - caplet.strike_max)\n",
    "#     print('Tf', int(caplet.fixing_date),'kmax diff: ',kmax - caplet.strike_max,'kmin diff: ',kmin - floorlet.strike_min)\n",
    "    \n",
    "print(colored('hello', 'red') if maxe > 1e-09 else colored('OK', 'green'))"
   ]
  },
  {
   "cell_type": "code",
   "execution_count": 23,
   "metadata": {},
   "outputs": [
    {
     "data": {
      "text/plain": [
       "array([ 2.8115e-11, -2.8279e-10, -3.0897e-10, -3.3507e-10,  4.6871e-10,\n",
       "        3.6821e-11,  4.5175e-11, -2.6515e-10, -6.2402e-10, -6.5457e-10,\n",
       "        5.1632e-11,  4.3242e-11, -2.8088e-10, -5.9629e-10, -3.3640e-10,\n",
       "       -3.6283e-10,  2.8035e-11,  3.6251e-11, -2.7431e-10, -3.0004e-10,\n",
       "       -6.5868e-10,  4.7752e-10,  4.5054e-11,  4.3780e-11, -6.0059e-10,\n",
       "       -6.3039e-10, -3.7095e-10,  5.6214e-11,  2.8037e-11, -2.8299e-10])"
      ]
     },
     "execution_count": 23,
     "metadata": {},
     "output_type": "execute_result"
    }
   ],
   "source": [
    "array(xml_fwds) - array(tsr_fwds)"
   ]
  },
  {
   "cell_type": "code",
   "execution_count": 24,
   "metadata": {},
   "outputs": [
    {
     "name": "stdout",
     "output_type": "stream",
     "text": [
      "\u001b[32mOK\u001b[0m\n"
     ]
    }
   ],
   "source": [
    "print(colored('hello', 'red') if max(array(xml_fwds) - array(tsr_fwds)) > 1e-09 else colored('OK', 'green'))"
   ]
  },
  {
   "cell_type": "markdown",
   "metadata": {},
   "source": [
    "### Strike ladder recon"
   ]
  },
  {
   "cell_type": "code",
   "execution_count": 25,
   "metadata": {},
   "outputs": [
    {
     "name": "stdout",
     "output_type": "stream",
     "text": [
      "\u001b[32mOK\u001b[0m\n"
     ]
    }
   ],
   "source": [
    "swo = cal_basket[-1]\n",
    "caplet, floorlet, swaplet = cms_replic_basket[-1]\n",
    "\n",
    "fwd = swo.get_swap_rate(dsc_curve, estim_curve)\n",
    "nref = caplet.n\n",
    "\n",
    "minmax_strikes = tsr.minmax_strikes(swo.vol, swo.expiry, fwd, nref)\n",
    "\n",
    "neff_capl = math.ceil((minmax_strikes.kmax - minmax_strikes.fwd)/minmax_strikes.kstep) + 1\n",
    "neff_floo = math.floor((minmax_strikes.fwd - minmax_strikes.kmin)/minmax_strikes.kstep) + 1\n",
    "\n",
    "strikes_ladders = tsr.build_strike_ladders(minmax_strikes, neff_capl, neff_floo)\n",
    "\n",
    "# print(caplet.calib_basket.Strike.values - strikes_ladders.caplet_ladder)\n",
    "max(caplet.calib_basket.Strike.values - strikes_ladders.caplet_ladder)\n",
    "print(colored('hello', 'red') if max(caplet.calib_basket.Strike.values - strikes_ladders.caplet_ladder) > 1e-09 else\\\n",
    "      colored('OK', 'green'))"
   ]
  },
  {
   "cell_type": "code",
   "execution_count": 26,
   "metadata": {},
   "outputs": [
    {
     "name": "stdout",
     "output_type": "stream",
     "text": [
      "\u001b[32mOK\u001b[0m\n"
     ]
    }
   ],
   "source": [
    "# print(floorlet.calib_basket.Strike.values - strikes_ladders.floorlet_ladder)\n",
    "\n",
    "print(colored('hello', 'red') if max(floorlet.calib_basket.Strike.values - strikes_ladders.floorlet_ladder) > 1e-09\\\n",
    "      else colored('OK', 'green'))"
   ]
  },
  {
   "cell_type": "markdown",
   "metadata": {},
   "source": [
    "### Weights recon"
   ]
  },
  {
   "cell_type": "code",
   "execution_count": 27,
   "metadata": {},
   "outputs": [
    {
     "name": "stdout",
     "output_type": "stream",
     "text": [
      "\u001b[32mOK\u001b[0m\n"
     ]
    }
   ],
   "source": [
    "mr = xml_parser.get_tsr_params(cms_xml_out).meanRevTSRSwapRate(caplet.fixing_date)\n",
    "tsr_coeff = linear.get_coeff(caplet.pmnt_date, dsc_curve, swo, mr, estim_curve)\n",
    "tsr_weights = tsr.build_weights(minmax_strikes, neff_capl, neff_floo, tsr_coeff)\n",
    "\n",
    "# print(caplet.calib_basket.Weights.values - tsr_weights.capletWeights)\n",
    "\n",
    "print(colored('ALARM', 'red') if max(abs(caplet.calib_basket.Weights.values - tsr_weights.capletWeights)) > 3e-09\\\n",
    "      else colored('OK', 'green'))"
   ]
  },
  {
   "cell_type": "code",
   "execution_count": 28,
   "metadata": {},
   "outputs": [
    {
     "name": "stdout",
     "output_type": "stream",
     "text": [
      "\u001b[32mOK\u001b[0m\n"
     ]
    }
   ],
   "source": [
    "# print(floorlet.calib_basket.Weights.values - tsr_weights.floorletWeights)\n",
    "\n",
    "print(colored('ALARM', 'red') if max(abs(floorlet.calib_basket.Weights.values - tsr_weights.floorletWeights)) > 3e-09\\\n",
    "      else colored('OK', 'green'))"
   ]
  },
  {
   "cell_type": "markdown",
   "metadata": {},
   "source": [
    "### Disc(Tf, Tp) / Annuity"
   ]
  },
  {
   "cell_type": "code",
   "execution_count": 29,
   "metadata": {},
   "outputs": [
    {
     "name": "stdout",
     "output_type": "stream",
     "text": [
      "[2.1060e-09 2.0325e-09 1.9589e-09 1.8852e-09 1.8117e-09 1.7381e-09\n",
      " 1.6646e-09 1.5909e-09 1.5174e-09 1.4438e-09 1.3702e-09 1.2966e-09\n",
      " 1.2230e-09 1.1495e-09 1.0758e-09 1.0023e-09 9.2870e-10 8.5514e-10\n",
      " 7.8148e-10 7.0793e-10 6.3437e-10 5.6071e-10 4.8715e-10 4.1360e-10\n",
      " 3.4004e-10]\n",
      "\u001b[32mOK\u001b[0m\n"
     ]
    }
   ],
   "source": [
    "print(caplet.calib_basket['Disc/A'].values - tsr.get_DiscOverAnnuity(strikes_ladders.caplet_ladder, tsr_coeff))\n",
    "\n",
    "print(colored('ALARM', 'red') if max(abs(caplet.calib_basket['Disc/A'].values -\\\n",
    "    tsr.get_DiscOverAnnuity(strikes_ladders.caplet_ladder, tsr_coeff))) > 3e-09 else colored('OK', 'green'))"
   ]
  },
  {
   "cell_type": "code",
   "execution_count": 30,
   "metadata": {},
   "outputs": [
    {
     "name": "stdout",
     "output_type": "stream",
     "text": [
      "\u001b[32mOK\u001b[0m\n"
     ]
    }
   ],
   "source": [
    "# print(floorlet.calib_basket['Disc/A'].values - tsr.get_DiscOverAnnuity(strikes_ladders.floorlet_ladder, tsr_coeff))\n",
    "\n",
    "\n",
    "print(colored('ALARM', 'red') if max(abs(floorlet.calib_basket['Disc/A'].values - \\\n",
    "    tsr.get_DiscOverAnnuity(strikes_ladders.floorlet_ladder, tsr_coeff))) > 4e-09 else colored('OK', 'green'))"
   ]
  },
  {
   "cell_type": "code",
   "execution_count": 31,
   "metadata": {},
   "outputs": [
    {
     "name": "stdout",
     "output_type": "stream",
     "text": [
      "\u001b[32mOK e-05\u001b[0m\n"
     ]
    },
    {
     "data": {
      "image/png": "[encoded data removed]",
      "text/plain": [
       "<Figure size 432x288 with 1 Axes>"
      ]
     },
     "metadata": {
      "needs_background": "light"
     },
     "output_type": "display_data"
    }
   ],
   "source": [
    "myBachelierCaplet = array([volatility.BachelierPrice(F=swo.get_swap_rate(dsc_curve, estim_curve), \n",
    "                                               K=strike, \n",
    "                                               v=swo.vol.value*np.sqrt(swo.expiry)) \n",
    "    * swo.get_annuity(dsc_curve) / dsc_curve.get_dsc(swo.start_date)\n",
    "          for strike in strikes_ladders.caplet_ladder])\n",
    "\n",
    "plt.plot(myBachelierCaplet, label='Bachelier')\n",
    "\n",
    "plt.plot(caplet.calib_basket.SwoPrice.values, label='Swaption', ls='--')\n",
    "plt.legend()\n",
    "\n",
    "max(myBachelierCaplet - caplet.calib_basket.SwoPrice.values)\n",
    "\n",
    "print(colored('ALARM', 'red') if max(myBachelierCaplet - caplet.calib_basket.SwoPrice.values) > 2e-05 else colored('OK e-05', 'green'))"
   ]
  },
  {
   "cell_type": "code",
   "execution_count": 32,
   "metadata": {},
   "outputs": [
    {
     "data": {
      "text/plain": [
       "array([1.5840e-05, 1.1704e-05, 8.3749e-06, 5.7926e-06, 3.8659e-06,\n",
       "       2.4853e-06, 1.5370e-06, 9.1305e-07, 5.2044e-07, 2.8434e-07,\n",
       "       1.4876e-07, 7.4461e-08, 3.5634e-08, 1.6292e-08, 7.1129e-09,\n",
       "       2.9636e-09, 1.1778e-09, 4.4630e-10, 1.6125e-10, 5.5459e-11,\n",
       "       1.8225e-11, 5.6257e-12, 1.6758e-12, 5.2132e-13, 1.7024e-13])"
      ]
     },
     "execution_count": 32,
     "metadata": {},
     "output_type": "execute_result"
    }
   ],
   "source": [
    "(myBachelierCaplet - caplet.calib_basket.SwoPrice.values)"
   ]
  },
  {
   "cell_type": "code",
   "execution_count": 33,
   "metadata": {},
   "outputs": [
    {
     "name": "stdout",
     "output_type": "stream",
     "text": [
      "\u001b[32mOK e-05\u001b[0m\n"
     ]
    },
    {
     "data": {
      "image/png": "[encoded data removed]",
      "text/plain": [
       "<Figure size 432x288 with 1 Axes>"
      ]
     },
     "metadata": {
      "needs_background": "light"
     },
     "output_type": "display_data"
    }
   ],
   "source": [
    "myBachelierFloorlet = array([volatility.BachelierPrice(\n",
    "                                    F=swo.get_swap_rate(dsc_curve, estim_curve), \n",
    "                                    K=strike, \n",
    "                                    v=swo.vol.value*np.sqrt(swo.expiry), w=-1) \n",
    "    * swo.get_annuity(dsc_curve) / dsc_curve.get_dsc(swo.start_date)\n",
    "          for strike in strikes_ladders.floorlet_ladder])\n",
    "\n",
    "plt.plot(myBachelierFloorlet, label='Bachelier')\n",
    "\n",
    "plt.plot(floorlet.calib_basket.SwoPrice.values, label='Swaption')\n",
    "plt.legend()\n",
    "\n",
    "print(colored('ALARM', 'red') if max(myBachelierFloorlet - floorlet.calib_basket.SwoPrice.values)  > 2e-05 else colored('OK e-05', 'green'))"
   ]
  },
  {
   "cell_type": "code",
   "execution_count": null,
   "metadata": {},
   "outputs": [],
   "source": []
  }
 ],
 "metadata": {
  "kernelspec": {
   "display_name": "Python 3",
   "language": "python",
   "name": "python3"
  },
  "language_info": {
   "codemirror_mode": {
    "name": "ipython",
    "version": 3
   },
   "file_extension": ".py",
   "mimetype": "text/x-python",
   "name": "python",
   "nbconvert_exporter": "python",
   "pygments_lexer": "ipython3",
   "version": "3.7.1"
  }
 },
 "nbformat": 4,
 "nbformat_minor": 4
}
